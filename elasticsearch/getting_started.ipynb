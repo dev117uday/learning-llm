{
 "cells": [
  {
   "cell_type": "code",
   "execution_count": 1,
   "id": "8f364f0f",
   "metadata": {},
   "outputs": [
    {
     "data": {
      "text/plain": [
       "True"
      ]
     },
     "execution_count": 1,
     "metadata": {},
     "output_type": "execute_result"
    }
   ],
   "source": [
    "from pprint import pprint\n",
    "from elasticsearch import Elasticsearch\n",
    "import os\n",
    "from dotenv import load_dotenv\n",
    "import uuid\n",
    "import json\n",
    "load_dotenv()"
   ]
  },
  {
   "cell_type": "code",
   "execution_count": 2,
   "id": "c3d9adfe",
   "metadata": {},
   "outputs": [],
   "source": [
    "\n",
    "# pprint(os.getenv(\"ELASTIC_SEARCH_API_KEY\"))"
   ]
  },
  {
   "cell_type": "code",
   "execution_count": 3,
   "id": "1a173b75",
   "metadata": {},
   "outputs": [],
   "source": [
    "## JSON printer\n",
    "\n",
    "def printer(data):\n",
    "    pretty_json = json.dumps(data, indent=4)\n",
    "    print(pretty_json)"
   ]
  },
  {
   "cell_type": "code",
   "execution_count": 4,
   "id": "62c7564e",
   "metadata": {},
   "outputs": [
    {
     "name": "stdout",
     "output_type": "stream",
     "text": [
      "'Connected to elastic Search'\n",
      "{\n",
      "    \"name\": \"serverless\",\n",
      "    \"cluster_name\": \"fb96fd8be3e24d4c8a75e6aaf5802bf6\",\n",
      "    \"cluster_uuid\": \"R11pXxymTzym4PV5vRNTYg\",\n",
      "    \"version\": {\n",
      "        \"number\": \"8.11.0\",\n",
      "        \"build_flavor\": \"serverless\",\n",
      "        \"build_type\": \"docker\",\n",
      "        \"build_hash\": \"00000000\",\n",
      "        \"build_date\": \"2023-10-31\",\n",
      "        \"build_snapshot\": false,\n",
      "        \"lucene_version\": \"9.7.0\",\n",
      "        \"minimum_wire_compatibility_version\": \"8.11.0\",\n",
      "        \"minimum_index_compatibility_version\": \"8.11.0\"\n",
      "    },\n",
      "    \"tagline\": \"You Know, for Search\"\n",
      "}\n"
     ]
    }
   ],
   "source": [
    "es = Elasticsearch(os.getenv(\"ELASTIC_SEARCH_URL\"), api_key=os.getenv(\"ELASTIC_SEARCH_API_KEY\"))\n",
    "\n",
    "client_info = es.info()\n",
    "\n",
    "pprint(\"Connected to elastic Search\")\n",
    "printer(client_info.body)"
   ]
  },
  {
   "cell_type": "code",
   "execution_count": 22,
   "id": "57c52449",
   "metadata": {},
   "outputs": [
    {
     "data": {
      "text/plain": [
       "ObjectApiResponse({'acknowledged': True, 'shards_acknowledged': True, 'index': 'myindex'})"
      ]
     },
     "execution_count": 22,
     "metadata": {},
     "output_type": "execute_result"
    }
   ],
   "source": [
    "es.indices.delete(index=\"myindex\", ignore_unavailable=True)\n",
    "\n",
    "# Not going to work on serverless\n",
    "# es.indices.create(index=\"myindex\", settings={\n",
    "#     \"index\": {\n",
    "#         \"number_of_shards\": 3,\n",
    "#         \"number_of_replica\": 2\n",
    "#     }\n",
    "# })\n",
    "\n",
    "index_name = \"myindex\"\n",
    "\n",
    "es.indices.create(index=index_name)"
   ]
  },
  {
   "cell_type": "code",
   "execution_count": 6,
   "id": "64b8fa5c",
   "metadata": {},
   "outputs": [
    {
     "name": "stdout",
     "output_type": "stream",
     "text": [
      "datetime.datetime(2025, 8, 31, 17, 28, 59, 68266)\n"
     ]
    }
   ],
   "source": [
    "from datetime import datetime\n",
    "\n",
    "pprint(datetime.now())"
   ]
  },
  {
   "cell_type": "code",
   "execution_count": 7,
   "id": "88f046b3",
   "metadata": {},
   "outputs": [
    {
     "name": "stdout",
     "output_type": "stream",
     "text": [
      "{\n",
      "    \"_index\": \"myindex\",\n",
      "    \"_id\": \"GK8sAZkB-JJed6hy1CkK\",\n",
      "    \"_version\": 1,\n",
      "    \"result\": \"created\",\n",
      "    \"_shards\": {\n",
      "        \"total\": 1,\n",
      "        \"successful\": 1,\n",
      "        \"failed\": 0\n",
      "    },\n",
      "    \"_seq_no\": 0,\n",
      "    \"_primary_term\": 1\n",
      "}\n"
     ]
    }
   ],
   "source": [
    "# random_uuid = uuid.uuid4()\n",
    "# # print(random_uuid)\n",
    "\n",
    "first_document = {\n",
    "    \"document_id\" : uuid.uuid4(),\n",
    "    \"title\" : \"Test Document 1\",\n",
    "    \"author\" : \"Uday Yadav\",\n",
    "    \"date\" : datetime.now()\n",
    "}\n",
    "\n",
    "response_object = es.index(index=index_name, document=first_document)\n",
    "printer(response_object.body)"
   ]
  },
  {
   "cell_type": "code",
   "execution_count": 8,
   "id": "5c47dd26",
   "metadata": {},
   "outputs": [
    {
     "name": "stdout",
     "output_type": "stream",
     "text": [
      "[\n",
      "    {\n",
      "        \"title\": \"Sample Title 1\",\n",
      "        \"text\": \"This is the first sample document text.\",\n",
      "        \"created_on\": \"2024-09-22\"\n",
      "    },\n",
      "    {\n",
      "        \"title\": \"Sample Title 2\",\n",
      "        \"text\": \"Here is another example of a document.\",\n",
      "        \"created_on\": \"2024-09-24\"\n",
      "    },\n",
      "    {\n",
      "        \"title\": \"Sample Title 3\",\n",
      "        \"text\": \"The content of the third document goes here.\",\n",
      "        \"created_on\": \"2024-09-24\"\n",
      "    }\n",
      "]\n"
     ]
    }
   ],
   "source": [
    "import json\n",
    "\n",
    "dummy_data = json.load(open(\"./data/dummy_data.json\"))\n",
    "printer(dummy_data)"
   ]
  },
  {
   "cell_type": "code",
   "execution_count": 23,
   "id": "cf0ce6c2",
   "metadata": {},
   "outputs": [],
   "source": [
    "response_id = []"
   ]
  },
  {
   "cell_type": "code",
   "execution_count": 24,
   "id": "1e12ca48",
   "metadata": {},
   "outputs": [
    {
     "name": "stdout",
     "output_type": "stream",
     "text": [
      "{\n",
      "    \"_index\": \"myindex\",\n",
      "    \"_id\": \"Ia8zAZkB-JJed6hyjSkn\",\n",
      "    \"_version\": 1,\n",
      "    \"result\": \"created\",\n",
      "    \"_shards\": {\n",
      "        \"total\": 1,\n",
      "        \"successful\": 1,\n",
      "        \"failed\": 0\n",
      "    },\n",
      "    \"_seq_no\": 0,\n",
      "    \"_primary_term\": 1\n",
      "}\n",
      "{\n",
      "    \"_index\": \"myindex\",\n",
      "    \"_id\": \"Iq8zAZkB-JJed6hyjinB\",\n",
      "    \"_version\": 1,\n",
      "    \"result\": \"created\",\n",
      "    \"_shards\": {\n",
      "        \"total\": 1,\n",
      "        \"successful\": 1,\n",
      "        \"failed\": 0\n",
      "    },\n",
      "    \"_seq_no\": 0,\n",
      "    \"_primary_term\": 1\n",
      "}\n",
      "{\n",
      "    \"_index\": \"myindex\",\n",
      "    \"_id\": \"I68zAZkB-JJed6hyjyne\",\n",
      "    \"_version\": 1,\n",
      "    \"result\": \"created\",\n",
      "    \"_shards\": {\n",
      "        \"total\": 1,\n",
      "        \"successful\": 1,\n",
      "        \"failed\": 0\n",
      "    },\n",
      "    \"_seq_no\": 1,\n",
      "    \"_primary_term\": 1\n",
      "}\n"
     ]
    }
   ],
   "source": [
    "def insert_document(insert_document):\n",
    "    return es.index(index=index_name, document=insert_document)\n",
    "\n",
    "\n",
    "for document in dummy_data:\n",
    "    document[\"document_id\"] = uuid.uuid4()\n",
    "    response = insert_document(document)\n",
    "    printer(response.body)\n",
    "    response_id.append(response[\"_id\"])"
   ]
  },
  {
   "cell_type": "code",
   "execution_count": 11,
   "id": "cb060c48",
   "metadata": {},
   "outputs": [
    {
     "name": "stdout",
     "output_type": "stream",
     "text": [
      "[\n",
      "    \"Ga8sAZkB-JJed6hy1ik_\",\n",
      "    \"Gq8sAZkB-JJed6hy1yng\",\n",
      "    \"G68sAZkB-JJed6hy2SkC\"\n",
      "]\n"
     ]
    }
   ],
   "source": [
    "printer(response_id)"
   ]
  },
  {
   "cell_type": "code",
   "execution_count": 12,
   "id": "cf994d47",
   "metadata": {},
   "outputs": [
    {
     "name": "stdout",
     "output_type": "stream",
     "text": [
      "Document Doesnt exists: Object of type ObjectApiResponse is not JSON serializable\n"
     ]
    }
   ],
   "source": [
    "## How to delete document\n",
    "\n",
    "try:\n",
    "    delete_response = es.delete(index=index_name, id=response_id[0])\n",
    "    printer(delete_response)\n",
    "except Exception as e:\n",
    "    print(f\"Document Doesnt exists: {e}\")"
   ]
  },
  {
   "cell_type": "code",
   "execution_count": 13,
   "id": "f0540341",
   "metadata": {},
   "outputs": [
    {
     "name": "stdout",
     "output_type": "stream",
     "text": [
      "Document Doesnt exists: NotFoundError(404, \"{'_index': 'myindex', '_id': 'Ga8sAZkB-JJed6hy1ik_', 'found': False}\")\n"
     ]
    }
   ],
   "source": [
    "## How to create document\n",
    "\n",
    "try:\n",
    "    response_document = es.get(index=index_name, id=response_id[0])\n",
    "    printer(response_document.body)\n",
    "except Exception as e:\n",
    "    print(f\"Document Doesnt exists: {e}\")"
   ]
  },
  {
   "cell_type": "code",
   "execution_count": 14,
   "id": "29e03bc1",
   "metadata": {},
   "outputs": [
    {
     "name": "stdout",
     "output_type": "stream",
     "text": [
      "{\n",
      "    \"count\": 2,\n",
      "    \"_shards\": {\n",
      "        \"total\": 3,\n",
      "        \"successful\": 3,\n",
      "        \"skipped\": 0,\n",
      "        \"failed\": 0\n",
      "    }\n",
      "}\n"
     ]
    }
   ],
   "source": [
    "## How to count documents\n",
    "try:\n",
    "    count_response = es.count(index=index_name)\n",
    "    printer(count_response.body)\n",
    "except Exception as e:\n",
    "    print(f\"Error counting documents: {e}\")"
   ]
  },
  {
   "cell_type": "code",
   "execution_count": 15,
   "id": "0e99c4a2",
   "metadata": {},
   "outputs": [
    {
     "name": "stdout",
     "output_type": "stream",
     "text": [
      "{\n",
      "    \"took\": 1,\n",
      "    \"timed_out\": false,\n",
      "    \"_shards\": {\n",
      "        \"total\": 3,\n",
      "        \"successful\": 3,\n",
      "        \"skipped\": 0,\n",
      "        \"failed\": 0\n",
      "    },\n",
      "    \"hits\": {\n",
      "        \"total\": {\n",
      "            \"value\": 2,\n",
      "            \"relation\": \"eq\"\n",
      "        },\n",
      "        \"max_score\": 1.0,\n",
      "        \"hits\": [\n",
      "            {\n",
      "                \"_index\": \"myindex\",\n",
      "                \"_id\": \"Gq8sAZkB-JJed6hy1yng\",\n",
      "                \"_score\": 1.0,\n",
      "                \"_source\": {\n",
      "                    \"title\": \"Sample Title 2\",\n",
      "                    \"text\": \"Here is another example of a document.\",\n",
      "                    \"created_on\": \"2024-09-24\",\n",
      "                    \"document_id\": \"e553f6b8-4b6f-477f-a8b4-265022aeff3f\"\n",
      "                }\n",
      "            },\n",
      "            {\n",
      "                \"_index\": \"myindex\",\n",
      "                \"_id\": \"G68sAZkB-JJed6hy2SkC\",\n",
      "                \"_score\": 1.0,\n",
      "                \"_source\": {\n",
      "                    \"title\": \"Sample Title 3\",\n",
      "                    \"text\": \"The content of the third document goes here.\",\n",
      "                    \"created_on\": \"2024-09-24\",\n",
      "                    \"document_id\": \"4e10f132-6673-4a08-a322-4a950fbfab23\"\n",
      "                }\n",
      "            }\n",
      "        ]\n",
      "    }\n",
      "}\n"
     ]
    }
   ],
   "source": [
    "## Write a simple query\n",
    "\n",
    "date_query = {\n",
    "    \"range\": {\n",
    "        \"created_on\" : {\n",
    "            \"gte\": \"2024-09-23\"\n",
    "        }\n",
    "    }\n",
    "}\n",
    "\n",
    "query_response = es.search(index=index_name, query=date_query)\n",
    "printer(query_response.body)"
   ]
  },
  {
   "cell_type": "code",
   "execution_count": 16,
   "id": "07c4a2db",
   "metadata": {},
   "outputs": [
    {
     "name": "stdout",
     "output_type": "stream",
     "text": [
      "true\n",
      "true\n"
     ]
    }
   ],
   "source": [
    "response = es.indices.exists(index=index_name)\n",
    "printer(response.body)\n",
    "\n",
    "response = es.exists(index=index_name, id=response_id[2])\n",
    "printer(response.body)"
   ]
  },
  {
   "cell_type": "code",
   "execution_count": 25,
   "id": "c2f02332",
   "metadata": {},
   "outputs": [
    {
     "name": "stdout",
     "output_type": "stream",
     "text": [
      "{\n",
      "    \"_index\": \"myindex\",\n",
      "    \"_id\": \"JK80AZkB-JJed6hyoiku\",\n",
      "    \"_version\": 1,\n",
      "    \"result\": \"created\",\n",
      "    \"_shards\": {\n",
      "        \"total\": 1,\n",
      "        \"successful\": 1,\n",
      "        \"failed\": 0\n",
      "    },\n",
      "    \"_seq_no\": 1,\n",
      "    \"_primary_term\": 1\n",
      "}\n",
      "New document id JK80AZkB-JJed6hyoiku\n",
      "{\n",
      "    \"_index\": \"myindex\",\n",
      "    \"_id\": \"JK80AZkB-JJed6hyoiku\",\n",
      "    \"_version\": 2,\n",
      "    \"result\": \"updated\",\n",
      "    \"_shards\": {\n",
      "        \"total\": 1,\n",
      "        \"successful\": 1,\n",
      "        \"failed\": 0\n",
      "    },\n",
      "    \"_seq_no\": 2,\n",
      "    \"_primary_term\": 1\n",
      "}\n",
      "{\n",
      "    \"_index\": \"myindex\",\n",
      "    \"_id\": \"JK80AZkB-JJed6hyoiku\",\n",
      "    \"_version\": 2,\n",
      "    \"_seq_no\": 2,\n",
      "    \"_primary_term\": 1,\n",
      "    \"found\": true,\n",
      "    \"_source\": {\n",
      "        \"title\": \"Sample Title 5\",\n",
      "        \"text\": \"The content of the fourth document goes here\",\n",
      "        \"created_on\": \"2024-09-25\"\n",
      "    }\n",
      "}\n"
     ]
    }
   ],
   "source": [
    "# update document\n",
    "\n",
    "original_document =   {\n",
    "    \"title\": \"Sample Title 4\",\n",
    "    \"text\": \"The content of the fourth document goes here\",\n",
    "    \"created_on\": \"2024-09-25\"\n",
    "}\n",
    "\n",
    "inserted_documented = insert_document(original_document)\n",
    "printer(inserted_documented.body)\n",
    "\n",
    "document_id = inserted_documented[\"_id\"]\n",
    "print(\"New document id \" + str(document_id))\n",
    "\n",
    "updated_response = es.update(index=index_name, id=document_id, script={\n",
    "    \"source\" : \"ctx._source.title = params.title\",\n",
    "    \"params\" : {\n",
    "        \"title\": \"Sample Title 5\"\n",
    "    }\n",
    "})\n",
    "\n",
    "printer(updated_response.body)\n",
    "\n",
    "updated_document = es.get(index=index_name, id=document_id)\n",
    "printer(updated_document.body)\n",
    "\n",
    "# es.delete(index=index_name, id=document_id)"
   ]
  },
  {
   "cell_type": "code",
   "execution_count": null,
   "id": "3b682315",
   "metadata": {},
   "outputs": [
    {
     "name": "stdout",
     "output_type": "stream",
     "text": [
      "{\n",
      "    \"_index\": \"myindex\",\n",
      "    \"_id\": \"JK80AZkB-JJed6hyoiku\",\n",
      "    \"_version\": 2,\n",
      "    \"result\": \"updated\",\n",
      "    \"_shards\": {\n",
      "        \"total\": 1,\n",
      "        \"successful\": 1,\n",
      "        \"failed\": 0\n",
      "    },\n",
      "    \"_seq_no\": 2,\n",
      "    \"_primary_term\": 1\n",
      "}\n",
      "{\n",
      "    \"_index\": \"myindex\",\n",
      "    \"_id\": \"JK80AZkB-JJed6hyoiku\",\n",
      "    \"_version\": 3,\n",
      "    \"_seq_no\": 3,\n",
      "    \"_primary_term\": 1,\n",
      "    \"found\": true,\n",
      "    \"_source\": {\n",
      "        \"title\": \"Sample Title 5\",\n",
      "        \"text\": \"The content of the fourth document goes here\",\n",
      "        \"created_on\": \"2024-09-25\",\n",
      "        \"document_id\": \"e61fd956-a8dc-4557-8bee-1252f0739d01\"\n",
      "    }\n",
      "}\n"
     ]
    }
   ],
   "source": [
    "random_uuid = uuid.uuid4()\n",
    "\n",
    "update_response = es.update(index=index_name, id=document_id, script={\n",
    "    \"source\": f\"ctx._source.document_id = '{random_uuid}'\"\n",
    "})\n",
    "\n",
    "printer(updated_response.body)\n",
    "updated_document = es.get(index=index_name, id=updated_response[\"_id\"])\n",
    "printer(updated_document.body)\n"
   ]
  }
 ],
 "metadata": {
  "kernelspec": {
   "display_name": ".venv",
   "language": "python",
   "name": "python3"
  },
  "language_info": {
   "codemirror_mode": {
    "name": "ipython",
    "version": 3
   },
   "file_extension": ".py",
   "mimetype": "text/x-python",
   "name": "python",
   "nbconvert_exporter": "python",
   "pygments_lexer": "ipython3",
   "version": "3.12.1"
  }
 },
 "nbformat": 4,
 "nbformat_minor": 5
}
