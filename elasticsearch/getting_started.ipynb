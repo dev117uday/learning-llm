{
 "cells": [
  {
   "cell_type": "code",
   "execution_count": 1,
   "id": "8f364f0f",
   "metadata": {},
   "outputs": [
    {
     "data": {
      "text/plain": [
       "True"
      ]
     },
     "execution_count": 1,
     "metadata": {},
     "output_type": "execute_result"
    }
   ],
   "source": [
    "from pprint import pprint\n",
    "from elasticsearch import Elasticsearch\n",
    "import os\n",
    "from dotenv import load_dotenv\n",
    "import uuid\n",
    "load_dotenv()"
   ]
  },
  {
   "cell_type": "code",
   "execution_count": 2,
   "id": "c3d9adfe",
   "metadata": {},
   "outputs": [],
   "source": [
    "\n",
    "# pprint(os.getenv(\"ELASTIC_SEARCH_API_KEY\"))"
   ]
  },
  {
   "cell_type": "code",
   "execution_count": 3,
   "id": "62c7564e",
   "metadata": {},
   "outputs": [
    {
     "name": "stdout",
     "output_type": "stream",
     "text": [
      "'Connected to elastic Search'\n",
      "{'name': 'serverless', 'cluster_name': 'fb96fd8be3e24d4c8a75e6aaf5802bf6', 'cluster_uuid': 'R11pXxymTzym4PV5vRNTYg', 'version': {'number': '8.11.0', 'build_flavor': 'serverless', 'build_type': 'docker', 'build_hash': '00000000', 'build_date': '2023-10-31', 'build_snapshot': False, 'lucene_version': '9.7.0', 'minimum_wire_compatibility_version': '8.11.0', 'minimum_index_compatibility_version': '8.11.0'}, 'tagline': 'You Know, for Search'}\n"
     ]
    }
   ],
   "source": [
    "es = Elasticsearch(os.getenv(\"ELASTIC_SEARCH_URL\"), api_key=os.getenv(\"ELASTIC_SEARCH_API_KEY\"))\n",
    "\n",
    "client_info = es.info()\n",
    "\n",
    "pprint(\"Connected to elastic Search\")\n",
    "print(client_info)"
   ]
  },
  {
   "cell_type": "code",
   "execution_count": 4,
   "id": "57c52449",
   "metadata": {},
   "outputs": [
    {
     "data": {
      "text/plain": [
       "ObjectApiResponse({'acknowledged': True, 'shards_acknowledged': True, 'index': 'myindex'})"
      ]
     },
     "execution_count": 4,
     "metadata": {},
     "output_type": "execute_result"
    }
   ],
   "source": [
    "es.indices.delete(index=\"myindex\", ignore_unavailable=True)\n",
    "\n",
    "# Not going to work on serverless\n",
    "# es.indices.create(index=\"myindex\", settings={\n",
    "#     \"index\": {\n",
    "#         \"number_of_shards\": 3,\n",
    "#         \"number_of_replica\": 2\n",
    "#     }\n",
    "# })\n",
    "\n",
    "index_name = \"myindex\"\n",
    "\n",
    "es.indices.create(index=index_name)"
   ]
  },
  {
   "cell_type": "code",
   "execution_count": 5,
   "id": "64b8fa5c",
   "metadata": {},
   "outputs": [
    {
     "name": "stdout",
     "output_type": "stream",
     "text": [
      "datetime.datetime(2025, 8, 31, 12, 49, 14, 701676)\n"
     ]
    }
   ],
   "source": [
    "from datetime import datetime\n",
    "\n",
    "pprint(datetime.now())"
   ]
  },
  {
   "cell_type": "code",
   "execution_count": 6,
   "id": "88f046b3",
   "metadata": {},
   "outputs": [
    {
     "data": {
      "text/plain": [
       "ObjectApiResponse({'_index': 'myindex', '_id': '668sAJkB-JJed6hytyjz', '_version': 1, 'result': 'created', '_shards': {'total': 1, 'successful': 1, 'failed': 0}, '_seq_no': 0, '_primary_term': 1})"
      ]
     },
     "execution_count": 6,
     "metadata": {},
     "output_type": "execute_result"
    }
   ],
   "source": [
    "# random_uuid = uuid.uuid4()\n",
    "# # print(random_uuid)\n",
    "\n",
    "first_document = {\n",
    "    \"document_id\" : uuid.uuid4(),\n",
    "    \"title\" : \"Test Document 1\",\n",
    "    \"author\" : \"Uday Yadav\",\n",
    "    \"date\" : datetime.now()\n",
    "}\n",
    "\n",
    "es.index(index=index_name, document=first_document)"
   ]
  },
  {
   "cell_type": "code",
   "execution_count": 7,
   "id": "5c47dd26",
   "metadata": {},
   "outputs": [
    {
     "name": "stdout",
     "output_type": "stream",
     "text": [
      "[{'created_on': '2024-09-22',\n",
      "  'text': 'This is the first sample document text.',\n",
      "  'title': 'Sample Title 1'},\n",
      " {'created_on': '2024-09-24',\n",
      "  'text': 'Here is another example of a document.',\n",
      "  'title': 'Sample Title 2'},\n",
      " {'created_on': '2024-09-24',\n",
      "  'text': 'The content of the third document goes here.',\n",
      "  'title': 'Sample Title 3'}]\n"
     ]
    }
   ],
   "source": [
    "import json\n",
    "\n",
    "dummy_data = json.load(open(\"./data/dummy_data.json\"))\n",
    "pprint(dummy_data)"
   ]
  },
  {
   "cell_type": "code",
   "execution_count": 8,
   "id": "1e12ca48",
   "metadata": {},
   "outputs": [
    {
     "name": "stdout",
     "output_type": "stream",
     "text": [
      "ObjectApiResponse({'_index': 'myindex', '_id': '7K8sAJkB-JJed6hyuSjG', '_version': 1, 'result': 'created', '_shards': {'total': 1, 'successful': 1, 'failed': 0}, '_seq_no': 0, '_primary_term': 1})\n",
      "ObjectApiResponse({'_index': 'myindex', '_id': '7a8sAJkB-JJed6hyuyiD', '_version': 1, 'result': 'created', '_shards': {'total': 1, 'successful': 1, 'failed': 0}, '_seq_no': 1, '_primary_term': 1})\n",
      "ObjectApiResponse({'_index': 'myindex', '_id': '7q8sAJkB-JJed6hyvCil', '_version': 1, 'result': 'created', '_shards': {'total': 1, 'successful': 1, 'failed': 0}, '_seq_no': 0, '_primary_term': 1})\n"
     ]
    }
   ],
   "source": [
    "def insert_document(insert_document):\n",
    "    return es.index(index=index_name, document=insert_document)\n",
    "\n",
    "for document in dummy_data:\n",
    "    document[\"document_id\"] = uuid.uuid4()\n",
    "    response = insert_document(document)\n",
    "    pprint(response)\n",
    "\n"
   ]
  }
 ],
 "metadata": {
  "kernelspec": {
   "display_name": ".venv",
   "language": "python",
   "name": "python3"
  },
  "language_info": {
   "codemirror_mode": {
    "name": "ipython",
    "version": 3
   },
   "file_extension": ".py",
   "mimetype": "text/x-python",
   "name": "python",
   "nbconvert_exporter": "python",
   "pygments_lexer": "ipython3",
   "version": "3.12.1"
  }
 },
 "nbformat": 4,
 "nbformat_minor": 5
}
